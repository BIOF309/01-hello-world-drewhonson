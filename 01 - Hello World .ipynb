{
 "cells": [
  {
   "cell_type": "markdown",
   "metadata": {
    "collapsed": true
   },
   "source": [
    "**Hello World**"
   ]
  },
  {
   "cell_type": "code",
   "execution_count": 4,
   "metadata": {},
   "outputs": [
    {
     "name": "stdout",
     "output_type": "stream",
     "text": [
      "Hello World\n"
     ]
    }
   ],
   "source": [
    "print(\"Hello World\")"
   ]
  },
  {
   "cell_type": "code",
   "execution_count": 23,
   "metadata": {},
   "outputs": [
    {
     "name": "stdout",
     "output_type": "stream",
     "text": [
      "What is your name?   Drew\n",
      "Hello, Drew\n",
      "What is your quest?   To seek the Holy Grail\n",
      "To seek the Holy Grail?\n",
      "Okay, what is your favorite color?   Blue, no red!\n",
      "You fail!\n"
     ]
    }
   ],
   "source": [
    "name = input(\"What is your name?   \")\n",
    "print(\"Hello, \" + name)\n",
    "quest = input(\"What is your quest?   \")\n",
    "print(quest + \"?\")\n",
    "color = input(\"Okay, what is your favorite color?   \")\n",
    "if \"No\" in color:\n",
    "    print(\"You fail!\")\n",
    "if \"no\" in color:\n",
    "    print(\"You fail!\")\n",
    "else:\n",
    "    print(\"You may pass\")"
   ]
  },
  {
   "cell_type": "code",
   "execution_count": null,
   "metadata": {
    "collapsed": true
   },
   "outputs": [],
   "source": []
  }
 ],
 "metadata": {
  "kernelspec": {
   "display_name": "Python 3",
   "language": "python",
   "name": "python3"
  },
  "language_info": {
   "codemirror_mode": {
    "name": "ipython",
    "version": 3
   },
   "file_extension": ".py",
   "mimetype": "text/x-python",
   "name": "python",
   "nbconvert_exporter": "python",
   "pygments_lexer": "ipython3",
   "version": "3.6.1"
  }
 },
 "nbformat": 4,
 "nbformat_minor": 2
}
